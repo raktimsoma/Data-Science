{
 "cells": [
  {
   "cell_type": "code",
   "execution_count": 1,
   "id": "24dddaf6-3961-4361-8624-c172db279c6d",
   "metadata": {},
   "outputs": [
    {
     "name": "stdout",
     "output_type": "stream",
     "text": [
      "Hello World\n",
      "My name is Soma\n"
     ]
    }
   ],
   "source": [
    "print(\"Hello World\")\n",
    "print(\"My name is Soma\")"
   ]
  },
  {
   "cell_type": "code",
   "execution_count": 6,
   "id": "ca3c4d9b-952f-4d71-a00c-498d57a452be",
   "metadata": {},
   "outputs": [
    {
     "name": "stdout",
     "output_type": "stream",
     "text": [
      " I live in india\n"
     ]
    }
   ],
   "source": [
    "print(\" I live in india\")\n"
   ]
  },
  {
   "cell_type": "code",
   "execution_count": 9,
   "id": "03e9b7dd-f522-406b-879e-b7c28e21f197",
   "metadata": {},
   "outputs": [
    {
     "data": {
      "text/plain": [
       "9"
      ]
     },
     "execution_count": 9,
     "metadata": {},
     "output_type": "execute_result"
    }
   ],
   "source": [
    "2+7\n"
   ]
  },
  {
   "cell_type": "code",
   "execution_count": 10,
   "id": "df08ef34-68a7-4fef-aa81-82781966599f",
   "metadata": {},
   "outputs": [
    {
     "data": {
      "text/plain": [
       "'hellowworld'"
      ]
     },
     "execution_count": 10,
     "metadata": {},
     "output_type": "execute_result"
    }
   ],
   "source": [
    "\"hellow\"+\"world\""
   ]
  },
  {
   "cell_type": "code",
   "execution_count": null,
   "id": "f34e4fec-46ed-44bd-93ca-7139a6f6d9fd",
   "metadata": {},
   "outputs": [],
   "source": []
  }
 ],
 "metadata": {
  "kernelspec": {
   "display_name": "Python 3 (ipykernel)",
   "language": "python",
   "name": "python3"
  },
  "language_info": {
   "codemirror_mode": {
    "name": "ipython",
    "version": 3
   },
   "file_extension": ".py",
   "mimetype": "text/x-python",
   "name": "python",
   "nbconvert_exporter": "python",
   "pygments_lexer": "ipython3",
   "version": "3.11.7"
  }
 },
 "nbformat": 4,
 "nbformat_minor": 5
}
